{
 "cells": [
  {
   "cell_type": "markdown",
   "id": "dd4b58fe",
   "metadata": {
    "deletable": false,
    "editable": false,
    "nbgrader": {
     "grade": false,
     "grade_id": "cell-df74a5add3f53d1b",
     "locked": true,
     "schema_version": 3,
     "solution": false,
     "task": false
    }
   },
   "source": [
    "# SLU 17_2 - Exam Prep I\n",
    "\n",
    "## Batch 2 Python Exam \n",
    "\n",
    "This is the Python admission exam from the Lisbon Data Science Starters Academy - Batch 2. The allocated time for this exam was 2 hours. If you plan to take the admission exam this year, it's a good idea to measure the time you need to solve this notebook. You can see how far you get in 2 hours and also how much time you need to complete the notebook. At the same time, it's a good idea to not rush through the exercises and rather concentrate on working thoroughly.\n",
    "\n",
    "At the end, you submit the notebook to the portal as usual. You can submit as many times as you like."
   ]
  },
  {
   "cell_type": "code",
   "execution_count": 1,
   "id": "87fc8863",
   "metadata": {
    "deletable": false,
    "editable": false,
    "nbgrader": {
     "grade": false,
     "grade_id": "cell-52e4242812257e1e",
     "locked": true,
     "schema_version": 3,
     "solution": false,
     "task": false
    }
   },
   "outputs": [],
   "source": [
    "from operator import itemgetter\n",
    "\n",
    "#used for evaluation\n",
    "import inspect\n",
    "import math\n",
    "import re\n",
    "import json\n",
    "import sys\n",
    "import utils\n",
    "import random\n",
    "\n",
    "#generate data\n",
    "data = utils.generate_data()\n",
    "data_comma =  utils.generate_data_comma()\n",
    "data_clean = utils.generate_data_clean()"
   ]
  },
  {
   "cell_type": "markdown",
   "id": "d792b224",
   "metadata": {
    "deletable": false,
    "editable": false,
    "nbgrader": {
     "grade": false,
     "grade_id": "cell-66ee0c43b637f40a",
     "locked": true,
     "schema_version": 3,
     "solution": false,
     "task": false
    }
   },
   "source": [
    "## Question 1\n",
    "\n",
    "If you took a look at the dataset, you may have noticed that some of the numeric values are \"polluted\" with characters.\n",
    "\n",
    "In this task you'll have to write a function, `clean_percentage`, that should do the following:\n",
    "\n",
    "- Receive as argument a list of dictionaries;\n",
    " - Each of the dictionaries keeps the % of female students in higher education per area, for a specific year;\n",
    "- Remove all the characters and spaces from the numeric values;\n",
    "- Return the cleaned data;\n",
    "\n",
    "Hint: mind the naughty (R)'s :)"
   ]
  },
  {
   "cell_type": "code",
   "execution_count": 2,
   "id": "00d582b9",
   "metadata": {
    "deletable": false,
    "nbgrader": {
     "grade": false,
     "grade_id": "cell-c7177b04bd669cff",
     "locked": false,
     "schema_version": 3,
     "solution": true,
     "task": false
    }
   },
   "outputs": [],
   "source": [
    "# YOUR CODE HERE\n",
    "def clean_percentage(data):\n",
    "    for i in range(0, len(data)):\n",
    "        for key in data[i].keys():\n",
    "            if type(data[i][key]) is str and data[i][key].isdigit() == False:\n",
    "                lst = data[i][key].split()\n",
    "                for word in lst:\n",
    "                    if all(char in \"0123456789,.\" for char in word):\n",
    "                        data[i][key] = word\n",
    "    return data"
   ]
  },
  {
   "cell_type": "code",
   "execution_count": 3,
   "id": "945fb530",
   "metadata": {
    "deletable": false,
    "editable": false,
    "nbgrader": {
     "grade": true,
     "grade_id": "cell-18bc7007043d3ec2",
     "locked": true,
     "points": 3,
     "schema_version": 3,
     "solution": false,
     "task": false
    }
   },
   "outputs": [
    {
     "name": "stdout",
     "output_type": "stream",
     "text": [
      "Answer is correct. Good Job.\n"
     ]
    }
   ],
   "source": [
    "#regenerate data\n",
    "data = utils.generate_data()\n",
    "data_comma =  utils.generate_data_comma()\n",
    "data_clean = utils.generate_data_clean()\n",
    "\n",
    "data_fixed = clean_percentage(data)\n",
    "assert len(data_fixed) == 10, \"Not correct. Keep trying.\"\n",
    "assert isinstance(data_fixed, list), \"Not correct. Keep trying.\"\n",
    "\n",
    "for r in range(len(data)):\n",
    "    assert isinstance(data[r], dict), \"Not correct. Keep trying.\"\n",
    "    assert len(data[r]) == 10, \"Not correct. Keep trying.\"\n",
    "\n",
    "    for k in data[r].keys():\n",
    "        assert \"(R)\" not in data_fixed[r][k], \"Not correct. Keep trying.\"\n",
    "        assert re.search(r\"[a-zA-Z\\(\\)]\", data_fixed[r][k]) is None, \"Not correct. Keep trying.\"\n",
    "        \n",
    "print(\"Answer is correct. Good Job.\")"
   ]
  },
  {
   "cell_type": "markdown",
   "id": "056f8529",
   "metadata": {
    "deletable": false,
    "editable": false,
    "nbgrader": {
     "grade": false,
     "grade_id": "cell-b34786a73a2f945a",
     "locked": true,
     "schema_version": 3,
     "solution": false,
     "task": false
    }
   },
   "source": [
    "## Question 2\n",
    "\n",
    "In this task, we want to clean the names of the education areas, so they are all lower case and without white spaces.\n",
    "\n",
    "For instance, Social Sciences, Management and Law should become social_sciences_management_and_law.\n",
    "\n",
    "So you'll have to write two functions.\n",
    "\n",
    "The first function, `clean_header_string`, should do the following:\n",
    "\n",
    "- Receive a string as input;\n",
    "- Remove all the commas from the string;\n",
    "- Replace the white spaces in the string with underscores;\n",
    "- Convert the string to lower case;\n",
    "- Return the transformed string;\n",
    "\n",
    "The second function, `clean_header`, should do the following:\n",
    "\n",
    "- Receive as input, a list of dictionaries, similar to the one in the last question;\n",
    "- Use the first function to transform the education area names;\n",
    "- Return the transformed data;\n"
   ]
  },
  {
   "cell_type": "code",
   "execution_count": 4,
   "id": "65f0cb06",
   "metadata": {
    "deletable": false,
    "nbgrader": {
     "grade": false,
     "grade_id": "cell-a11732fd19b01c68",
     "locked": false,
     "schema_version": 3,
     "solution": true,
     "task": false
    }
   },
   "outputs": [
    {
     "data": {
      "text/plain": [
       "[{'Year': '2013',\n",
       "  'Total': '53,2',\n",
       "  'Education': '80,4',\n",
       "  'Arts and Humanities': '56,9',\n",
       "  'Social Sciences, Management and Law': '58,1',\n",
       "  'Sciences, Maths and Computer Science': '47,2',\n",
       "  'Engineering': '27,4',\n",
       "  'Agriculture': '56,9',\n",
       "  'Health and Social Security': '76,8',\n",
       "  'Services': '41,4'},\n",
       " {'Year': '201',\n",
       "  'Total': '22,2',\n",
       "  'Education': '80,4',\n",
       "  'Arts and Humanities': '16,9',\n",
       "  'Social Sciences, Management and Law': '58,1',\n",
       "  'Sciences, Maths and Computer Science': '47,2',\n",
       "  'Engineering': '27,4',\n",
       "  'Agriculture': '56,9',\n",
       "  'Health and Social Security': '76,8',\n",
       "  'Services': '41,4'},\n",
       " {'Year': '2014',\n",
       "  'Total': '53,5',\n",
       "  'Education': '80,7',\n",
       "  'Arts and Humanities': '58,0',\n",
       "  'Social Sciences, Management and Law': '58,5',\n",
       "  'Sciences, Maths and Computer Science': '47,5',\n",
       "  'Engineering': '27,6',\n",
       "  'Agriculture': '56,9',\n",
       "  'Health and Social Security': '76,6',\n",
       "  'Services': '41,1'},\n",
       " {'Year': '2015',\n",
       "  'Total': '53,6',\n",
       "  'Education': '80,7',\n",
       "  'Arts and Humanities': '58,7',\n",
       "  'Social Sciences, Management and Law': '58,6',\n",
       "  'Sciences, Maths and Computer Science': '47,8',\n",
       "  'Engineering': '27,0',\n",
       "  'Agriculture': '56,3',\n",
       "  'Health and Social Security': '76,7',\n",
       "  'Services': '41,0'},\n",
       " {'Year': '2016',\n",
       "  'Total': '53,4',\n",
       "  'Education': '80,3',\n",
       "  'Arts and Humanities': '58,6',\n",
       "  'Social Sciences, Management and Law': '58,9',\n",
       "  'Sciences, Maths and Computer Science': '45,7',\n",
       "  'Engineering': '27,3',\n",
       "  'Agriculture': '56,4',\n",
       "  'Health and Social Security': '76,8',\n",
       "  'Services': '41,7'},\n",
       " {'Year': '2017',\n",
       "  'Total': '53,6',\n",
       "  'Education': '79,3',\n",
       "  'Arts and Humanities': '59,0',\n",
       "  'Social Sciences, Management and Law': '59,5',\n",
       "  'Sciences, Maths and Computer Science': '44,2',\n",
       "  'Engineering': '27,5',\n",
       "  'Agriculture': '57,3',\n",
       "  'Health and Social Security': '77,0',\n",
       "  'Services': '42,1'},\n",
       " {'Year': '2013',\n",
       "  'Total': '52,2',\n",
       "  'Education': '80,4',\n",
       "  'Arts and Humanities': '57,9',\n",
       "  'Social Sciences, Management and Law': '58,1',\n",
       "  'Sciences, Maths and Computer Science': '47,2',\n",
       "  'Engineering': '27,4',\n",
       "  'Agriculture': '56,9',\n",
       "  'Health and Social Security': '76,8',\n",
       "  'Services': '41,4'},\n",
       " {'Year': '2014',\n",
       "  'Total': '53,5',\n",
       "  'Education': '80,7',\n",
       "  'Arts and Humanities': '58,0',\n",
       "  'Social Sciences, Management and Law': '58,5',\n",
       "  'Sciences, Maths and Computer Science': '47,5',\n",
       "  'Engineering': '27,6',\n",
       "  'Agriculture': '56,9',\n",
       "  'Health and Social Security': '76,6',\n",
       "  'Services': '41,1'},\n",
       " {'Year': '2015',\n",
       "  'Total': '53,6',\n",
       "  'Education': '80,7',\n",
       "  'Arts and Humanities': '58,7',\n",
       "  'Social Sciences, Management and Law': '58,6',\n",
       "  'Sciences, Maths and Computer Science': '47,8',\n",
       "  'Engineering': '27,0',\n",
       "  'Agriculture': '56,3',\n",
       "  'Health and Social Security': '76,7',\n",
       "  'Services': '41,0'},\n",
       " {'Year': '2016',\n",
       "  'Total': '53,4',\n",
       "  'Education': '80,3',\n",
       "  'Arts and Humanities': '58,6',\n",
       "  'Social Sciences, Management and Law': '58,9',\n",
       "  'Sciences, Maths and Computer Science': '45,7',\n",
       "  'Engineering': '27,3',\n",
       "  'Agriculture': '56,4',\n",
       "  'Health and Social Security': '76,8',\n",
       "  'Services': '41,7'}]"
      ]
     },
     "execution_count": 4,
     "metadata": {},
     "output_type": "execute_result"
    }
   ],
   "source": [
    "def clean_header_string(string):\n",
    "    # YOUR CODE HERE\n",
    "    res = \"\"\n",
    "    for char in string:\n",
    "        if char == \",\":\n",
    "            continue\n",
    "        else:\n",
    "            res += char\n",
    "    res2 = \"\"\n",
    "    for char in res:\n",
    "        if char == \" \":\n",
    "            res2 += \"_\"\n",
    "        else:\n",
    "            res2 += char\n",
    "    res2 = res2.lower()\n",
    "    return res2\n",
    "\n",
    "def clean_header(d):\n",
    "    # YOUR CODE HERE\n",
    "    lst = []\n",
    "    for i in range(0, len(data)):\n",
    "        new_dict = {clean_header_string(key):value for key, value in data[i].items()}\n",
    "        lst.append(new_dict)\n",
    "    return lst\n",
    "\n",
    "data"
   ]
  },
  {
   "cell_type": "code",
   "execution_count": 5,
   "id": "137a83f2",
   "metadata": {
    "deletable": false,
    "editable": false,
    "nbgrader": {
     "grade": true,
     "grade_id": "cell-d7215a1617be8293",
     "locked": true,
     "points": 3,
     "schema_version": 3,
     "solution": false,
     "task": false
    }
   },
   "outputs": [
    {
     "name": "stdout",
     "output_type": "stream",
     "text": [
      "Answer is correct. Good Job.\n"
     ]
    }
   ],
   "source": [
    "#regenerate data\n",
    "data = utils.generate_data()\n",
    "data_comma =  utils.generate_data_comma()\n",
    "data_clean = utils.generate_data_clean()\n",
    "\n",
    "for r in range(len(data)):\n",
    "    assert len(data) == 10, \"Not correct. Keep trying.\"\n",
    "    assert len(data[r]) == 10, \"Not correct. Keep trying.\"\n",
    "    for k in data[r].keys():\n",
    "        area_clean = clean_header_string(k)\n",
    "        assert isinstance(area_clean, str), \"Not correct. Keep trying.\"\n",
    "        assert re.search(r\"[\\,\\sA-Z]\", area_clean) is None, \\\n",
    "               \"Not correct. Keep trying.\"\n",
    "\n",
    "data_fixed = clean_header(data)\n",
    "assert isinstance(data_fixed, list), \"Not correct. Keep trying.\"\n",
    "for r in range(len(data_fixed)):\n",
    "    assert len(data_fixed) == 10, \"Not correct. Keep trying.\"\n",
    "    assert len(data_fixed[r]) == 10, \"Not correct. Keep trying.\"\n",
    "    assert isinstance(data_fixed[r], dict), \"Not correct. Keep trying.\"\n",
    "    for k in data_fixed[r].keys():\n",
    "        assert isinstance(k, str), \"Not correct. Keep trying.\"\n",
    "        assert re.search(r\"[\\,\\sA-Z]\", k) is None, \\\n",
    "               \"Not correct. Keep trying.\"\n",
    "        \n",
    "print(\"Answer is correct. Good Job.\")"
   ]
  },
  {
   "cell_type": "markdown",
   "id": "15c64175",
   "metadata": {
    "deletable": false,
    "editable": false,
    "nbgrader": {
     "grade": false,
     "grade_id": "cell-a30d898709fe64cb",
     "locked": true,
     "schema_version": 3,
     "solution": false,
     "task": false
    }
   },
   "source": [
    "## Question 3\n",
    "\n",
    "In this task, we want to convert our data to the right data types.\n",
    "\n",
    "For this you'll have to write two functions.\n",
    "\n",
    "\n",
    "The first function, `commas`, should do the following:\n",
    "\n",
    "- Receive as input a list of dictionaries, similar to the previous questions;\n",
    "- Replace the commas with dots in the numeric values;\n",
    "- Return the transformed data;\n",
    "\n",
    "\n",
    "The second function `data_types` should do the following:\n",
    "\n",
    "- Receive as input a list of dictionaries (specifically the one returned by the first function);\n",
    "- Convert the year values to integer;\n",
    "- Convert the % of female students values to float;\n",
    "- Return the transformed data;"
   ]
  },
  {
   "cell_type": "code",
   "execution_count": 12,
   "id": "64a95751",
   "metadata": {
    "deletable": false,
    "nbgrader": {
     "grade": false,
     "grade_id": "cell-76ca0448c5209f19",
     "locked": false,
     "schema_version": 3,
     "solution": true,
     "task": false
    }
   },
   "outputs": [
    {
     "data": {
      "text/plain": [
       "[{'Year': '2013',\n",
       "  'Total': '53,2',\n",
       "  'Education': '80,4',\n",
       "  'Arts and Humanities': '56,9',\n",
       "  'Social Sciences, Management and Law': '58,1',\n",
       "  'Sciences, Maths and Computer Science': '(R) 47,2',\n",
       "  'Engineering': '(R) 27,4',\n",
       "  'Agriculture': '56,9',\n",
       "  'Health and Social Security': '76,8',\n",
       "  'Services': '(R) 41,4'},\n",
       " {'Year': '201',\n",
       "  'Total': '22,2',\n",
       "  'Education': '80,4',\n",
       "  'Arts and Humanities': '16,9',\n",
       "  'Social Sciences, Management and Law': '58,1',\n",
       "  'Sciences, Maths and Computer Science': '(R) 47,2',\n",
       "  'Engineering': '(R) 27,4',\n",
       "  'Agriculture': '56,9',\n",
       "  'Health and Social Security': '76,8',\n",
       "  'Services': '(R) 41,4'},\n",
       " {'Year': '2014',\n",
       "  'Total': '53,5',\n",
       "  'Education': '80,7',\n",
       "  'Arts and Humanities': '58,0',\n",
       "  'Social Sciences, Management and Law': '58,5',\n",
       "  'Sciences, Maths and Computer Science': '(R) 47,5',\n",
       "  'Engineering': '(R) 27,6',\n",
       "  'Agriculture': '56,9',\n",
       "  'Health and Social Security': '76,6',\n",
       "  'Services': '(R) 41,1'},\n",
       " {'Year': '2015',\n",
       "  'Total': '53,6',\n",
       "  'Education': '80,7',\n",
       "  'Arts and Humanities': '58,7',\n",
       "  'Social Sciences, Management and Law': '58,6',\n",
       "  'Sciences, Maths and Computer Science': '(R) 47,8',\n",
       "  'Engineering': '(R) 27,0',\n",
       "  'Agriculture': '56,3',\n",
       "  'Health and Social Security': '76,7',\n",
       "  'Services': '(R) 41,0'},\n",
       " {'Year': '2016',\n",
       "  'Total': '53,4',\n",
       "  'Education': '80,3',\n",
       "  'Arts and Humanities': '58,6',\n",
       "  'Social Sciences, Management and Law': '58,9',\n",
       "  'Sciences, Maths and Computer Science': '(R) 45,7',\n",
       "  'Engineering': '(R) 27,3',\n",
       "  'Agriculture': '56,4',\n",
       "  'Health and Social Security': '76,8',\n",
       "  'Services': '(R) 41,7'},\n",
       " {'Year': '2017',\n",
       "  'Total': '53,6',\n",
       "  'Education': '79,3',\n",
       "  'Arts and Humanities': '59,0',\n",
       "  'Social Sciences, Management and Law': '59,5',\n",
       "  'Sciences, Maths and Computer Science': '44,2',\n",
       "  'Engineering': '27,5',\n",
       "  'Agriculture': '57,3',\n",
       "  'Health and Social Security': '77,0',\n",
       "  'Services': '42,1'},\n",
       " {'Year': '2013',\n",
       "  'Total': '52,2',\n",
       "  'Education': '80,4',\n",
       "  'Arts and Humanities': '57,9',\n",
       "  'Social Sciences, Management and Law': '58,1',\n",
       "  'Sciences, Maths and Computer Science': '(R) 47,2',\n",
       "  'Engineering': '(R) 27,4',\n",
       "  'Agriculture': '56,9',\n",
       "  'Health and Social Security': '76,8',\n",
       "  'Services': '(R) 41,4'},\n",
       " {'Year': '2014',\n",
       "  'Total': '53,5',\n",
       "  'Education': '80,7',\n",
       "  'Arts and Humanities': '58,0',\n",
       "  'Social Sciences, Management and Law': '58,5',\n",
       "  'Sciences, Maths and Computer Science': '(R) 47,5',\n",
       "  'Engineering': '(R) 27,6',\n",
       "  'Agriculture': '56,9',\n",
       "  'Health and Social Security': '76,6',\n",
       "  'Services': '(R) 41,1'},\n",
       " {'Year': '2015',\n",
       "  'Total': '53,6',\n",
       "  'Education': '80,7',\n",
       "  'Arts and Humanities': '58,7',\n",
       "  'Social Sciences, Management and Law': '58,6',\n",
       "  'Sciences, Maths and Computer Science': '(R) 47,8',\n",
       "  'Engineering': '(R) 27,0',\n",
       "  'Agriculture': '56,3',\n",
       "  'Health and Social Security': '76,7',\n",
       "  'Services': '(R) 41,0'},\n",
       " {'Year': '2016',\n",
       "  'Total': '53,4',\n",
       "  'Education': '80,3',\n",
       "  'Arts and Humanities': '58,6',\n",
       "  'Social Sciences, Management and Law': '58,9',\n",
       "  'Sciences, Maths and Computer Science': '(R) 45,7',\n",
       "  'Engineering': '(R) 27,3',\n",
       "  'Agriculture': '56,4',\n",
       "  'Health and Social Security': '76,8',\n",
       "  'Services': '(R) 41,7'}]"
      ]
     },
     "execution_count": 12,
     "metadata": {},
     "output_type": "execute_result"
    }
   ],
   "source": [
    "def commas(d):\n",
    "    # YOUR CODE HERE\n",
    "    for i in range(0, len(d)):\n",
    "        for key in d[i].keys():\n",
    "            d[i][key] = d[i][key].replace(\",\", \".\")\n",
    "    return d\n",
    "\n",
    "def data_types(d):\n",
    "    # YOUR CODE HERE\n",
    "    d = clean_header(d)\n",
    "    d = commas(d)\n",
    "    d = clean_percentage(d)\n",
    "    for i in range(0, len(d)):\n",
    "        for key in d[i].keys():\n",
    "            if key == \"year\":\n",
    "                d[i][key] = int(d[i][key])\n",
    "            else:\n",
    "                d[i][key] = float(d[i][key])\n",
    "    return d\n",
    "\n",
    "data"
   ]
  },
  {
   "cell_type": "code",
   "execution_count": 11,
   "id": "4c04b0cc",
   "metadata": {
    "deletable": false,
    "editable": false,
    "nbgrader": {
     "grade": true,
     "grade_id": "cell-c0f514108d4869b2",
     "locked": true,
     "points": 3,
     "schema_version": 3,
     "solution": false,
     "task": false
    }
   },
   "outputs": [
    {
     "name": "stdout",
     "output_type": "stream",
     "text": [
      "Answer is correct. Good Job.\n"
     ]
    }
   ],
   "source": [
    "#regenerate data\n",
    "data = utils.generate_data()\n",
    "data_comma =  utils.generate_data_comma()\n",
    "data_clean = utils.generate_data_clean()\n",
    "\n",
    "data_dot = commas(data_comma)\n",
    "assert isinstance(data_dot, list), \"Not correct. Keep trying.\"\n",
    "for r in range(len(data_dot)):\n",
    "    assert len(data_dot) == 10, \"Not correct. Keep trying.\"\n",
    "    assert len(data_dot[r]) == 10, \"Not correct. Keep trying.\"\n",
    "    assert isinstance(data_dot[r], dict), \"Not correct. Keep trying.\"\n",
    "    for v in data_dot[r].values():\n",
    "        assert isinstance(v, str), \"Not correct. Keep trying.\"\n",
    "        assert re.search(r\"[\\,]\", v) is None, \\\n",
    "               \"Not correct. Keep trying.\"\n",
    "\n",
    "data_dot_type = data_types(data_dot)\n",
    "assert isinstance(data_dot_type, list), \"Not correct. Keep trying.\"\n",
    "for r in range(len(data_dot_type)):\n",
    "    assert len(data_dot_type) == 10, \"Not correct. Keep trying.\"\n",
    "    assert len(data_dot_type[r]) == 10, \"Not correct. Keep trying.\"\n",
    "    assert isinstance(data_dot_type[r], dict), \"Not correct. Keep trying.\"\n",
    "    for k, v in data_dot_type[r].items():\n",
    "        if k == \"year\":\n",
    "            assert isinstance(v, int), \"Not correct. Keep trying.\"\n",
    "        else:\n",
    "            assert isinstance(v, float), \"Not correct. Keep trying.\"\n",
    "            \n",
    "print(\"Answer is correct. Good Job.\")"
   ]
  },
  {
   "cell_type": "markdown",
   "id": "cd8a51a7",
   "metadata": {
    "deletable": false,
    "editable": false,
    "nbgrader": {
     "grade": false,
     "grade_id": "cell-0fe3da9f60ca4159",
     "locked": true,
     "schema_version": 3,
     "solution": false,
     "task": false
    }
   },
   "source": [
    "## Question 4\n",
    "\n",
    "In this task, we want to focus on data about a specific education area.\n",
    "\n",
    "So you'll have to write a function, `education_years`  that should do the following:\n",
    "\n",
    "- Receive as input a list of dictionaries (similar to the ones of the previous questions), and an education area (string);\n",
    "- Return a list of tuples where the first value of the tuple is the year and the second value is the % of females in the given education area;\n",
    "\n",
    "In this task you're required to use the following:\n",
    "\n",
    "- `map` function;\n",
    "- `lambda` function;"
   ]
  },
  {
   "cell_type": "code",
   "execution_count": 50,
   "id": "5ac9f6a9",
   "metadata": {
    "deletable": false,
    "nbgrader": {
     "grade": false,
     "grade_id": "cell-0546a2b6445fd75b",
     "locked": false,
     "schema_version": 3,
     "solution": true,
     "task": false
    }
   },
   "outputs": [],
   "source": [
    "def education_years(data, education_area):\n",
    "    # YOUR CODE HERE\n",
    "    lst = list(map(lambda key: (key[\"year\"], key[education_area]), data))\n",
    "    return lst\n"
   ]
  },
  {
   "cell_type": "code",
   "execution_count": 51,
   "id": "d875cc31",
   "metadata": {
    "deletable": false,
    "editable": false,
    "nbgrader": {
     "grade": true,
     "grade_id": "cell-0bf157ce02b1b085",
     "locked": true,
     "points": 3,
     "schema_version": 3,
     "solution": false,
     "task": false
    }
   },
   "outputs": [
    {
     "name": "stdout",
     "output_type": "stream",
     "text": [
      "Answer is correct. Good Job.\n"
     ]
    }
   ],
   "source": [
    "#regenerate data\n",
    "data = utils.generate_data()\n",
    "data_comma =  utils.generate_data_comma()\n",
    "data_clean = utils.generate_data_clean()\n",
    "\n",
    "education_areas = [key for key in data_clean[0].keys() if key not in [\"year\"]]\n",
    "for area in education_areas:\n",
    "    percent_women_year = education_years(data_clean, area)\n",
    "    assert isinstance(percent_women_year, list), \"Not correct. Keep trying.\"\n",
    "    assert len(percent_women_year) == 12, \"Not correct. Keep trying.\"\n",
    "    for year in percent_women_year:\n",
    "        assert isinstance(year, tuple), \"Not correct. Keep trying.\"\n",
    "        assert len(year) == 2, \"Not correct. Keep trying.\"\n",
    "        assert isinstance(year[0], int), \"Not correct. Keep trying.\"\n",
    "        assert isinstance(year[1], float), \"Not correct. Keep trying.\"\n",
    "\n",
    "test1 = education_years(data_clean, \"total\")\n",
    "assert math.isclose(test1[3][1], 53.5, abs_tol=0.1), \"Not correct. Keep trying.\"\n",
    "assert test1[10][0] == 2016, \"Not correct. Keep trying.\"\n",
    "\n",
    "test2 = education_years(data_clean, \"services\")\n",
    "assert math.isclose(test2[5][1], 41.7, abs_tol=0.1), \"Not correct. Keep trying.\"\n",
    "assert test2[8][0] == 2014, \"Not correct. Keep trying.\"\n",
    "\n",
    "source = inspect.getsource(education_years)\n",
    "assert \"map\" in source, \"Not correct. Keep trying.\"\n",
    "assert \"lambda\" in source, \"Not correct. Keep trying.\"\n",
    "\n",
    "print(\"Answer is correct. Good Job.\")"
   ]
  },
  {
   "cell_type": "markdown",
   "id": "fafc4167",
   "metadata": {
    "deletable": false,
    "editable": false,
    "nbgrader": {
     "grade": false,
     "grade_id": "cell-f4688b863f0cefa1",
     "locked": true,
     "schema_version": 3,
     "solution": false,
     "task": false
    }
   },
   "source": [
    "## Question 5\n",
    "\n",
    "In this task, for a certain education area, we want to understand what were the years where more females were enrolled in higher education.\n",
    "\n",
    "So you'll have to write a function named `female_enrolled` that should do the following:\n",
    "\n",
    "- Receive as input a list of tuples with year and % of females (like the output of last task) and a threshold;\n",
    "- Filter **out** all the tuples that correspond to a % of females strictly below the threshold;\n",
    "- Sort the remaining tuples from higher to lower % of females;\n",
    "- Return the resulting list of tuples;\n",
    "\n",
    "In this task you're required to use the following:\n",
    "\n",
    "- `sorted` function\n",
    "\n",
    "Hint: `itemgetter` may be handy"
   ]
  },
  {
   "cell_type": "code",
   "execution_count": 35,
   "id": "62510a55",
   "metadata": {
    "deletable": false,
    "nbgrader": {
     "grade": false,
     "grade_id": "cell-3c339e619872e065",
     "locked": false,
     "schema_version": 3,
     "solution": true,
     "task": false
    }
   },
   "outputs": [
    {
     "data": {
      "text/plain": [
       "[(2030, 90), (2100, 80)]"
      ]
     },
     "execution_count": 35,
     "metadata": {},
     "output_type": "execute_result"
    }
   ],
   "source": [
    "import operator \n",
    "\n",
    "def female_enrolled(data, threshold):\n",
    "    # YOUR CODE HERE\n",
    "    lst = []\n",
    "    for i in range(0, len(data)):\n",
    "        if data[i][1] >= threshold:\n",
    "            lst.append(data[i])\n",
    "    lst = sorted(lst, key=operator.itemgetter(1), reverse=True)\n",
    "    return  lst\n",
    "\n",
    "dta = [(2100, 80), (2010, 70), (2030, 90)]\n",
    "dta = female_enrolled(dta, 80)\n",
    "dta"
   ]
  },
  {
   "cell_type": "code",
   "execution_count": 36,
   "id": "580a0cfe",
   "metadata": {
    "deletable": false,
    "editable": false,
    "nbgrader": {
     "grade": true,
     "grade_id": "cell-30f67a7608d49607",
     "locked": true,
     "points": 3,
     "schema_version": 3,
     "solution": false,
     "task": false
    }
   },
   "outputs": [
    {
     "name": "stdout",
     "output_type": "stream",
     "text": [
      "Answer is correct. Good Job.\n"
     ]
    }
   ],
   "source": [
    "#regenerate data\n",
    "data = utils.generate_data()\n",
    "data_comma =  utils.generate_data_comma()\n",
    "data_clean = utils.generate_data_clean()\n",
    "\n",
    "data_enrolled = utils.generate_data_enrolled()\n",
    "data_filtered = female_enrolled(data_enrolled, 0)\n",
    "assert isinstance(data_filtered, list), \"Not correct. Keep trying.\"\n",
    "assert len(data_filtered) == 5, \"Not correct. Keep trying.\"\n",
    "for year in data_filtered:\n",
    "    assert isinstance(year, tuple), \"Not correct. Keep trying.\"\n",
    "    assert len(year) == 2, \"Not correct. Keep trying.\"\n",
    "    assert isinstance(year[0], int), \"Not correct. Keep trying.\"\n",
    "    assert isinstance(year[1], float), \"Not correct. Keep trying.\"\n",
    "\n",
    "test1 = female_enrolled(data_enrolled, 58.1)\n",
    "assert len(test1) == 3, \"Not correct. Keep trying.\"\n",
    "assert math.isclose(test1[1][1],\n",
    "                    58.7,\n",
    "                    abs_tol=0.1), \"Not correct. Keep trying.\"\n",
    "assert test1[1][0] == 2015, \"Not correct. Keep trying.\"\n",
    "\n",
    "test2 = female_enrolled(data_enrolled, 58.0)\n",
    "assert len(test2) == 4, \"Not correct. Keep trying.\"\n",
    "assert math.isclose(test2[3][1],\n",
    "                    58.0,\n",
    "                    abs_tol=0.1), \"Not correct. Keep trying.\"\n",
    "assert test2[3][0] == 2014, \"Not correct. Keep trying.\"\n",
    "\n",
    "source = inspect.getsource(female_enrolled)\n",
    "assert \"sorted\" in source, \"Not correct. Keep trying.\"\n",
    "\n",
    "print(\"Answer is correct. Good Job.\")"
   ]
  },
  {
   "cell_type": "markdown",
   "id": "2c41ec74",
   "metadata": {
    "deletable": false,
    "editable": false,
    "nbgrader": {
     "grade": false,
     "grade_id": "cell-4e2ed886a93db595",
     "locked": true,
     "schema_version": 3,
     "solution": false,
     "task": false
    }
   },
   "source": [
    "## Question 6\n",
    "\n",
    "In this task we'll create a class to play the lottery!\n",
    "\n",
    "First, get to know the `raffle_key`. The `raffle_key` is a dictionary, associating ticket numbers with prizes. All the numbers that are not in the raffle_key won't get any prize."
   ]
  },
  {
   "cell_type": "code",
   "execution_count": 38,
   "id": "2adb0c95",
   "metadata": {
    "deletable": false,
    "editable": false,
    "nbgrader": {
     "grade": false,
     "grade_id": "cell-d0b08a13b58b5344",
     "locked": true,
     "schema_version": 3,
     "solution": false,
     "task": false
    }
   },
   "outputs": [],
   "source": [
    "raffle_key = {1:\"10 euros\", 5:\"100 euros\", 9:\"40 euros\"}"
   ]
  },
  {
   "cell_type": "markdown",
   "id": "4ddd382f",
   "metadata": {
    "deletable": false,
    "editable": false,
    "nbgrader": {
     "grade": false,
     "grade_id": "cell-4c99e5f250875271",
     "locked": true,
     "schema_version": 3,
     "solution": false,
     "task": false
    }
   },
   "source": [
    "### Step 1:\n",
    "\n",
    "- Create a `Lottery` class that takes one constructor parameter called `raffle_key`;\n",
    "- In the `Lottery` class create a method named `get_lucky` that receives the lucky_number as parameter;\n",
    "    and returns the strings \"{X} euros\" or \"Better luck next time!\", depending on the presence of the lucky number in the raffle key;\n",
    "- In our example above, our lucky number 9 corresponds to the response string \"40 euros\";\n",
    "    if in some case the lucky number provided doesn't exist in the raffle key, we should print out \"Better luck next time!\";\n",
    "- If no lucky number is provided whatsoever, make sure that a random one is generated.\n",
    "\n",
    "\n",
    "### Step 2:\n",
    "\n",
    "- Instantiate the `Lottery` class with name `simple_lottery` and with the given raffle key;\n",
    "\n",
    "\n",
    "In this task you're required to use the following:\n",
    "\n",
    "- `try/except` statements;\n"
   ]
  },
  {
   "cell_type": "code",
   "execution_count": 48,
   "id": "f7f1e1d2",
   "metadata": {
    "deletable": false,
    "nbgrader": {
     "grade": false,
     "grade_id": "cell-dc8077515454abe0",
     "locked": false,
     "schema_version": 3,
     "solution": true,
     "task": false
    }
   },
   "outputs": [
    {
     "data": {
      "text/plain": [
       "'40 euros'"
      ]
     },
     "execution_count": 48,
     "metadata": {},
     "output_type": "execute_result"
    }
   ],
   "source": [
    "class Lottery():\n",
    "    # YOUR CODE HERE\n",
    "    def __init__(self, raffle_key):\n",
    "        self.raffle_key = raffle_key\n",
    "    \n",
    "    def get_lucky(self, lucky_number=None):\n",
    "        if lucky_number is None:\n",
    "            lucky_number = random.randint(1, 100)\n",
    "        try:\n",
    "            raffle_key[lucky_number]\n",
    "        except:\n",
    "            return \"Better luck next time!\"\n",
    "        return raffle_key[lucky_number]\n",
    "    "
   ]
  },
  {
   "cell_type": "code",
   "execution_count": 49,
   "id": "c4d04791",
   "metadata": {
    "deletable": false,
    "editable": false,
    "nbgrader": {
     "grade": true,
     "grade_id": "cell-96c7d9be71562f8a",
     "locked": true,
     "points": 5,
     "schema_version": 3,
     "solution": false,
     "task": false
    }
   },
   "outputs": [
    {
     "name": "stdout",
     "output_type": "stream",
     "text": [
      "Answer is correct. Good Job.\n"
     ]
    }
   ],
   "source": [
    "assert isinstance(simple_lottery, Lottery), \"Not correct. Keep trying.\"\n",
    "assert hasattr(simple_lottery, \"raffle_key\"), \"Not correct. Keep trying.\"\n",
    "assert simple_lottery.get_lucky(1) == \"10 euros\", \"Not correct. Keep trying.\"\n",
    "assert simple_lottery.get_lucky(5) == \"100 euros\", \"Not correct. Keep trying.\"\n",
    "assert simple_lottery.get_lucky(9) == \"40 euros\", \"Not correct. Keep trying.\"\n",
    "assert simple_lottery.get_lucky(\"1\") == \"Better luck next time!\", \\\n",
    "       \"Not correct. Keep trying.\"\n",
    "assert simple_lottery.get_lucky(-3) == \"Better luck next time!\", \\\n",
    "       \"Not correct. Keep trying.\"\n",
    "assert isinstance(simple_lottery.get_lucky(), str), \"Not correct. Keep trying.\"\n",
    "source = inspect.getsource(simple_lottery.get_lucky)\n",
    "assert \"try\" in source, \"Not correct. Keep trying.\"\n",
    "assert \"except\" in source, \"Not correct. Keep trying.\"\n",
    "\n",
    "print(\"Answer is correct. Good Job.\")"
   ]
  },
  {
   "cell_type": "markdown",
   "id": "fa5590a0",
   "metadata": {
    "deletable": false,
    "editable": false,
    "nbgrader": {
     "grade": false,
     "grade_id": "cell-548e6a602825ecb1",
     "locked": true,
     "schema_version": 3,
     "solution": false,
     "task": false
    }
   },
   "source": [
    "### Submit your work!\n",
    "\n",
    "To submit your work, [follow the steps here, in the step \\\"Grading the Exercise Notebook\\\"!](https://github.com/LDSSA/ds-prep-course-2023/blob/main/weekly-workflow.md#link-to-grading)"
   ]
  }
 ],
 "metadata": {
  "kernelspec": {
   "display_name": "Python 3 (ipykernel)",
   "language": "python",
   "name": "python3"
  },
  "language_info": {
   "codemirror_mode": {
    "name": "ipython",
    "version": 3
   },
   "file_extension": ".py",
   "mimetype": "text/x-python",
   "name": "python",
   "nbconvert_exporter": "python",
   "pygments_lexer": "ipython3",
   "version": "3.8.0"
  }
 },
 "nbformat": 4,
 "nbformat_minor": 5
}
