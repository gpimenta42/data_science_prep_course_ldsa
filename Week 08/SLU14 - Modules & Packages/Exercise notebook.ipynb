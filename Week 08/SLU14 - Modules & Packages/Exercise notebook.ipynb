{
 "cells": [
  {
   "cell_type": "markdown",
   "metadata": {
    "deletable": false,
    "editable": false,
    "nbgrader": {
     "grade": false,
     "grade_id": "cell-b51292c41ad1034a",
     "locked": true,
     "schema_version": 3,
     "solution": false,
     "task": false
    }
   },
   "source": [
    "# SLU14 - Modules and Packages "
   ]
  },
  {
   "cell_type": "markdown",
   "metadata": {
    "deletable": false,
    "editable": false,
    "nbgrader": {
     "grade": false,
     "grade_id": "cell-1edd6d8c353adac9",
     "locked": true,
     "schema_version": 3,
     "solution": false,
     "task": false
    }
   },
   "source": [
    "#### Start by importing the following module"
   ]
  },
  {
   "cell_type": "code",
   "execution_count": 1,
   "metadata": {
    "deletable": false,
    "editable": false,
    "nbgrader": {
     "grade": false,
     "grade_id": "cell-a854be34a91820a2",
     "locked": true,
     "schema_version": 3,
     "solution": false,
     "task": false
    }
   },
   "outputs": [],
   "source": [
    "#used for evaluation\n",
    "import utils"
   ]
  },
  {
   "cell_type": "markdown",
   "metadata": {
    "deletable": false,
    "editable": false,
    "nbgrader": {
     "grade": false,
     "grade_id": "cell-fb58af9bacb658eb",
     "locked": true,
     "schema_version": 3,
     "solution": false,
     "task": false
    }
   },
   "source": [
    "### Exercise 1: What is the difference between a class and a module?"
   ]
  },
  {
   "cell_type": "markdown",
   "metadata": {
    "deletable": false,
    "editable": false,
    "nbgrader": {
     "grade": false,
     "grade_id": "cell-f7898dc12e84fd8d",
     "locked": true,
     "schema_version": 3,
     "solution": false,
     "task": false
    }
   },
   "source": [
    "a) There is no difference; \n",
    "\n",
    "b) A module is a set of files with the `.py` extension and a class is just one of those files;   \n",
    "\n",
    "c) A module is a file with the `.py` extension which can contain classes or one class, but can also contains functions and variables;   \n",
    "\n",
    "d) A class is a file with the `.ipynb` extension and a module with the `.py` extension;"
   ]
  },
  {
   "cell_type": "code",
   "execution_count": 2,
   "metadata": {
    "deletable": false,
    "nbgrader": {
     "grade": false,
     "grade_id": "cell-ec299e14ecce1f27",
     "locked": false,
     "schema_version": 3,
     "solution": true,
     "task": false
    }
   },
   "outputs": [],
   "source": [
    "# uncomment the right answer\n",
    "# answer = \"a\"\n",
    "# answer = \"b\"\n",
    "# answer = \"c\"\n",
    "# answer = \"d\"\n",
    "# YOUR CODE HERE\n",
    "answer = \"c\""
   ]
  },
  {
   "cell_type": "code",
   "execution_count": 3,
   "metadata": {
    "deletable": false,
    "editable": false,
    "nbgrader": {
     "grade": true,
     "grade_id": "cell-60bb3a2487965c64",
     "locked": true,
     "points": 1,
     "schema_version": 3,
     "solution": false,
     "task": false
    }
   },
   "outputs": [],
   "source": [
    "assert utils.encode_answer(answer) == utils.q1, \"Wrong answer.\""
   ]
  },
  {
   "cell_type": "markdown",
   "metadata": {
    "deletable": false,
    "editable": false,
    "nbgrader": {
     "grade": false,
     "grade_id": "cell-4790904cb20e20e2",
     "locked": true,
     "schema_version": 3,
     "solution": false,
     "task": false
    }
   },
   "source": [
    "### Exercise 2: How can we run the module as a script?"
   ]
  },
  {
   "cell_type": "markdown",
   "metadata": {
    "deletable": false,
    "editable": false,
    "nbgrader": {
     "grade": false,
     "grade_id": "cell-11fd56f73dcaf87b",
     "locked": true,
     "schema_version": 3,
     "solution": false,
     "task": false
    }
   },
   "source": [
    "a) Just create your module with the desired attributes only: classes, functions and/or variables;      \n",
    "\n",
    "b) With no special organization, but with all the code inside `if __init__:`;   \n",
    "\n",
    "c) With no special organization at all, because it automatically already runs as a script;   \n",
    "\n",
    "d) We only have to make sure that the entry point (the part of the code where the program starts executing) should be inside  `if __name__=='__main__':`;"
   ]
  },
  {
   "cell_type": "code",
   "execution_count": 4,
   "metadata": {
    "deletable": false,
    "nbgrader": {
     "grade": false,
     "grade_id": "cell-2f1a5dfccc2eee9b",
     "locked": false,
     "schema_version": 3,
     "solution": true,
     "task": false
    }
   },
   "outputs": [],
   "source": [
    "# uncomment the right answer\n",
    "# answer = \"a\"\n",
    "# answer = \"b\"\n",
    "# answer = \"c\"\n",
    "# answer = \"d\"\n",
    "# YOUR CODE HERE\n",
    "answer = \"d\""
   ]
  },
  {
   "cell_type": "code",
   "execution_count": 5,
   "metadata": {
    "deletable": false,
    "editable": false,
    "nbgrader": {
     "grade": true,
     "grade_id": "cell-18368bb83c4a41b4",
     "locked": true,
     "points": 1,
     "schema_version": 3,
     "solution": false,
     "task": false
    }
   },
   "outputs": [],
   "source": [
    "assert utils.encode_answer(answer) == utils.q2, \"Wrong answer.\""
   ]
  },
  {
   "cell_type": "markdown",
   "metadata": {
    "deletable": false,
    "editable": false,
    "nbgrader": {
     "grade": false,
     "grade_id": "cell-e1b62152b48bd757",
     "locked": true,
     "schema_version": 3,
     "solution": false,
     "task": false
    }
   },
   "source": [
    "### Exercise 3: If you create an empty new module (.py file) and print __name__. What will happen and why? "
   ]
  },
  {
   "cell_type": "markdown",
   "metadata": {
    "deletable": false,
    "editable": false,
    "nbgrader": {
     "grade": false,
     "grade_id": "cell-88ec3c6dcf76abc5",
     "locked": true,
     "schema_version": 3,
     "solution": false,
     "task": false
    }
   },
   "source": [
    "a) It will give an error, because the module can not be empty;   \n",
    "\n",
    "b) It will print ```__main__ ```, because python always sets the variable 'name' to 'main' before running the file.;\n",
    "\n",
    "c) It will print ```__name__ ```, because that is exactly what you asked python to do.;"
   ]
  },
  {
   "cell_type": "code",
   "execution_count": 6,
   "metadata": {
    "deletable": false,
    "nbgrader": {
     "grade": false,
     "grade_id": "cell-7a2c49000d940397",
     "locked": false,
     "schema_version": 3,
     "solution": true,
     "task": false
    }
   },
   "outputs": [],
   "source": [
    "# uncomment the right answer\n",
    "# answer = \"a\"\n",
    "# answer = \"b\"\n",
    "# answer = \"c\"\n",
    "# YOUR CODE HERE\n",
    "answer = \"b\""
   ]
  },
  {
   "cell_type": "code",
   "execution_count": 7,
   "metadata": {
    "deletable": false,
    "editable": false,
    "nbgrader": {
     "grade": true,
     "grade_id": "cell-cd2427e89b7707cb",
     "locked": true,
     "points": 1,
     "schema_version": 3,
     "solution": false,
     "task": false
    }
   },
   "outputs": [],
   "source": [
    "assert utils.encode_answer(answer) == utils.q3, \"Wrong answer.\""
   ]
  },
  {
   "cell_type": "markdown",
   "metadata": {
    "deletable": false,
    "editable": false,
    "nbgrader": {
     "grade": false,
     "grade_id": "cell-858bdde756a66e73",
     "locked": true,
     "schema_version": 3,
     "solution": false,
     "task": false
    }
   },
   "source": [
    "### Exercise 4: So, now you made your first module and import it in your second module. Why are you happy that you used `if __name__==\"__main__\"` in your first module?"
   ]
  },
  {
   "cell_type": "markdown",
   "metadata": {
    "deletable": false,
    "editable": false,
    "nbgrader": {
     "grade": false,
     "grade_id": "cell-f9e45e8f6e62913c",
     "locked": true,
     "schema_version": 3,
     "solution": false,
     "task": false
    }
   },
   "source": [
    "a) It looks interesting in your first module to use it, but doesn't do anything for your second module;  \n",
    "\n",
    "b) It is not possible to import the first module without the statement `if __name__=='__main__':`;   \n",
    "\n",
    "c) Python checked, during the import, if the name is \"main\". This is true (as seen in the previous question) and therefor it will only use the attributes within the if-statement and not everything in the first module file;  \n",
    "\n",
    "d)Python checked, during the import, if the name is \"main\". This is not true, since the name will be set as the name of the imported module. But because of the statement `if __name__=='__main__':`, python knows to set the name back to \"main\". Now it is clear that the second module is your main file;   "
   ]
  },
  {
   "cell_type": "code",
   "execution_count": 8,
   "metadata": {
    "deletable": false,
    "nbgrader": {
     "grade": false,
     "grade_id": "cell-a4658c8feaa4f078",
     "locked": false,
     "schema_version": 3,
     "solution": true,
     "task": false
    }
   },
   "outputs": [],
   "source": [
    "# uncomment the right answer\n",
    "# answer = \"a\"\n",
    "# answer = \"b\"\n",
    "# answer = \"c\"\n",
    "# answer = \"d\"\n",
    "# YOUR CODE HERE\n",
    "answer = \"c\""
   ]
  },
  {
   "cell_type": "code",
   "execution_count": 9,
   "metadata": {
    "deletable": false,
    "editable": false,
    "nbgrader": {
     "grade": true,
     "grade_id": "cell-9a98124ab22debe2",
     "locked": true,
     "points": 1,
     "schema_version": 3,
     "solution": false,
     "task": false
    }
   },
   "outputs": [],
   "source": [
    "assert utils.encode_answer(answer) == utils.q4, \"Wrong answer.\""
   ]
  },
  {
   "cell_type": "markdown",
   "metadata": {
    "deletable": false,
    "editable": false,
    "nbgrader": {
     "grade": false,
     "grade_id": "cell-521cf1e20f8ebbca",
     "locked": true,
     "schema_version": 3,
     "solution": false,
     "task": false
    }
   },
   "source": [
    "### Exercise 5: Inside the directory stores, create a module named bookstore with the following attributes:\n"
   ]
  },
  {
   "cell_type": "markdown",
   "metadata": {
    "deletable": false,
    "editable": false,
    "nbgrader": {
     "grade": false,
     "grade_id": "cell-db18efe5ccd410cd",
     "locked": true,
     "schema_version": 3,
     "solution": false,
     "task": false
    }
   },
   "source": [
    "- A `class` named `Book` with three `attributes`, `title`, `author`, and `price`. The title attribute should be a string representing the title of the book, the author attribute should be a string representing the author of the book, and the price attribute should be a float representing the price of the book. The class should also have the following method: `get_book_info()`: returns a string that contains the book's title, author, and price in the following format: \"Title: [title], Author: [author], Price: [price].\"\n",
    "- A function named `get_total_price` that accepts a list of Book objects as an input and returns the total price of all the books in the list.\n",
    "- A variable named `description` with the following string value: `\"This is a module named bookstore.`\"\n",
    "- Now let's see if your module works and follow the steps below to see the total price of your new books. \n",
    "\n",
    "To evaluate your module, create a variable named done with the value True."
   ]
  },
  {
   "cell_type": "code",
   "execution_count": 19,
   "metadata": {
    "deletable": false,
    "nbgrader": {
     "grade": false,
     "grade_id": "cell-aea5631b25c21caa",
     "locked": false,
     "schema_version": 3,
     "solution": true,
     "task": false
    }
   },
   "outputs": [
    {
     "name": "stdout",
     "output_type": "stream",
     "text": [
      "35\n"
     ]
    }
   ],
   "source": [
    "\n",
    "book_list = [\n",
    "    (\"To Kill a Mockingbird\", \"Harper Lee\", 2),\n",
    "    (\"The Great Gatsby\", \"F. Scott Fitzgerald\", 5),\n",
    "    (\"Pride and Prejudice\", \"Jane Austen\", 7),\n",
    "    (\"The Catcher in the Rye\", \"J.D. Salinger\", 6),\n",
    "    (\"1984\", \"George Orwell\", 15)\n",
    "    ]\n",
    "    \n",
    "\n",
    "# Set done = True\n",
    "\n",
    "# import your module\n",
    "\n",
    "# use the book_list\n",
    " \n",
    "# Calculate the total price of the books using the get_total_price function\n",
    "\n",
    "# total_price =\n",
    "\n",
    "# Print the total price\n",
    "\n",
    "# YOUR CODE HERE\n",
    "\n",
    "\n",
    "done = True\n",
    "\n",
    "from stores.bookstore import *\n",
    "\n",
    "description = \"This is a module named bookstore.\"\n",
    "\n",
    "list_obj = []\n",
    "for number in range(0, len(book_list)):\n",
    "    list_obj.append(Book(title=book_list[number][0], author=book_list[number][1], price=book_list[number][2]))\n",
    "\n",
    "total_price = get_total_price(list_obj)\n",
    "print (total_price)\n",
    "\n"
   ]
  },
  {
   "cell_type": "code",
   "execution_count": 20,
   "metadata": {
    "deletable": false,
    "editable": false,
    "nbgrader": {
     "grade": true,
     "grade_id": "cell-421c00edf62020d8",
     "locked": true,
     "points": 7,
     "schema_version": 3,
     "solution": false,
     "task": false
    }
   },
   "outputs": [
    {
     "ename": "AttributeError",
     "evalue": "'tuple' object has no attribute 'price'",
     "output_type": "error",
     "traceback": [
      "\u001b[0;31m---------------------------------------------------------------------------\u001b[0m",
      "\u001b[0;31mAttributeError\u001b[0m                            Traceback (most recent call last)",
      "Input \u001b[0;32mIn [20]\u001b[0m, in \u001b[0;36m<cell line: 1>\u001b[0;34m()\u001b[0m\n\u001b[1;32m     12\u001b[0m \u001b[38;5;28;01massert\u001b[39;00m this_bookstore\u001b[38;5;241m.\u001b[39mauthor \u001b[38;5;241m==\u001b[39m \u001b[38;5;124m\"\u001b[39m\u001b[38;5;124mWilliam Shakespear\u001b[39m\u001b[38;5;124m\"\u001b[39m, \u001b[38;5;124m\"\u001b[39m\u001b[38;5;124mDid you set auteur as an attribute of class Book?\u001b[39m\u001b[38;5;124m\"\u001b[39m\n\u001b[1;32m     13\u001b[0m \u001b[38;5;28;01massert\u001b[39;00m this_bookstore\u001b[38;5;241m.\u001b[39mget_book_info()\u001b[38;5;241m==\u001b[39m \u001b[38;5;124m\"\u001b[39m\u001b[38;5;124mTitle: Hamlet, Author: William Shakespear, Price: 10\u001b[39m\u001b[38;5;124m\"\u001b[39m, \u001b[38;5;124m\"\u001b[39m\u001b[38;5;124mDid you set get_book_info correctly as a method of class Book?\u001b[39m\u001b[38;5;124m\"\u001b[39m\n\u001b[0;32m---> 14\u001b[0m \u001b[38;5;28;01massert\u001b[39;00m \u001b[43mbookstore\u001b[49m\u001b[38;5;241;43m.\u001b[39;49m\u001b[43mget_total_price\u001b[49m\u001b[43m(\u001b[49m\u001b[43mbook_list\u001b[49m\u001b[43m)\u001b[49m, \u001b[38;5;124m\"\u001b[39m\u001b[38;5;124mDid you create a function named get_total price?\u001b[39m\u001b[38;5;124m\"\u001b[39m\n\u001b[1;32m     15\u001b[0m \u001b[38;5;28;01massert\u001b[39;00m bookstore\u001b[38;5;241m.\u001b[39mdescription \u001b[38;5;241m==\u001b[39m \u001b[38;5;124m\"\u001b[39m\u001b[38;5;124mthis is a module named bookstore\u001b[39m\u001b[38;5;124m\"\u001b[39m, \u001b[38;5;124m\"\u001b[39m\u001b[38;5;124mDid you set description well?\u001b[39m\u001b[38;5;124m\"\u001b[39m\n\u001b[1;32m     16\u001b[0m \u001b[38;5;28;01massert\u001b[39;00m total_price \u001b[38;5;241m==\u001b[39m \u001b[38;5;241m35\u001b[39m, \u001b[38;5;124m\"\u001b[39m\u001b[38;5;124mThe total price should be 35 euro\u001b[39m\u001b[38;5;124m'\u001b[39m\u001b[38;5;124ms\u001b[39m\u001b[38;5;124m\"\u001b[39m\n",
      "File \u001b[0;32m~/projects/ds_prep_ws/Week 08/SLU14 - Modules & Packages/stores/bookstore.py:13\u001b[0m, in \u001b[0;36mget_total_price\u001b[0;34m(books)\u001b[0m\n\u001b[1;32m     11\u001b[0m price \u001b[38;5;241m=\u001b[39m \u001b[38;5;241m0\u001b[39m\n\u001b[1;32m     12\u001b[0m \u001b[38;5;28;01mfor\u001b[39;00m book \u001b[38;5;129;01min\u001b[39;00m books:\n\u001b[0;32m---> 13\u001b[0m     price \u001b[38;5;241m+\u001b[39m\u001b[38;5;241m=\u001b[39m \u001b[43mbook\u001b[49m\u001b[38;5;241;43m.\u001b[39;49m\u001b[43mprice\u001b[49m\n\u001b[1;32m     14\u001b[0m \u001b[38;5;28;01mreturn\u001b[39;00m price\n",
      "\u001b[0;31mAttributeError\u001b[0m: 'tuple' object has no attribute 'price'"
     ]
    }
   ],
   "source": [
    "if done:\n",
    "    try:\n",
    "        from stores import bookstore\n",
    "        store = True\n",
    "    except ImportError:\n",
    "        store = False\n",
    "        \n",
    "    if store:\n",
    "        assert bookstore, \"Did you store a module named bookstore inside stores folder?\"\n",
    "        this_bookstore = bookstore.Book(\"Hamlet\", \"William Shakespear\", 10)\n",
    "        assert this_bookstore.title == \"Hamlet\", \"Did you set title as an attribute of class Book?\"\n",
    "        assert this_bookstore.author == \"William Shakespear\", \"Did you set auteur as an attribute of class Book?\"\n",
    "        assert this_bookstore.get_book_info()== \"Title: Hamlet, Author: William Shakespear, Price: 10\", \"Did you set get_book_info correctly as a method of class Book?\"\n",
    "        assert bookstore.get_total_price(book_list), \"Did you create a function named get_total price?\"\n",
    "        assert bookstore.description == \"this is a module named bookstore\", \"Did you set description well?\"\n",
    "        assert total_price == 35, \"The total price should be 35 euro's\"\n",
    "        print(\"Great job! You are awesome :-).\")\n",
    "    else:\n",
    "        print(\"In the directory 'stores' is no module called 'bookstore'. Try again or ask for help\")\n",
    "\n",
    "else:\n",
    "    print(\"You have to create a variable, called 'done', with the value 'True'\")\n",
    "        "
   ]
  },
  {
   "cell_type": "markdown",
   "metadata": {
    "deletable": false,
    "editable": false,
    "nbgrader": {
     "grade": false,
     "grade_id": "cell-0fbe0e5aa1afb398",
     "locked": true,
     "schema_version": 3,
     "solution": false,
     "task": false
    }
   },
   "source": [
    "### Exercise 6: We love a good python course, right?! Import the class Course, from module course, and create a new object from that.\n",
    "\n",
    "The `library` folder is in the current directory. Explore its contents.\n",
    "Import the class Course , that belongs to module course. Do this import in a way that the Course class name has no prefix. This doesn't mean that we cannot have dots in our import statement.\n",
    "Afterwards, create a new course, named this_course, with name=prep-course, author=ldssa and year=2023. "
   ]
  },
  {
   "cell_type": "code",
   "execution_count": 22,
   "metadata": {
    "deletable": false,
    "nbgrader": {
     "grade": false,
     "grade_id": "cell-8dafeb32a322444f",
     "locked": false,
     "schema_version": 3,
     "solution": true,
     "task": false
    }
   },
   "outputs": [],
   "source": [
    "# from module1.module2.etc... import Class,etc..\n",
    "#this_course = ...\n",
    "\n",
    "# YOUR CODE HERE\n",
    "from library.shelf.course import Course\n",
    "\n",
    "this_course = Course(name=\"prep-course\", author=\"ldssa\", year=2023)"
   ]
  },
  {
   "cell_type": "code",
   "execution_count": 23,
   "metadata": {
    "deletable": false,
    "editable": false,
    "nbgrader": {
     "grade": true,
     "grade_id": "cell-9ac799d1b55a4cba",
     "locked": true,
     "points": 4,
     "schema_version": 3,
     "solution": false,
     "task": false
    }
   },
   "outputs": [],
   "source": [
    "assert Course, \"Course class was not imported with success\"\n",
    "assert isinstance(this_course, Course), \"this_course is not of type Course\"\n",
    "assert this_course.name == \"prep-course\", \"this_course has the wrong name\"\n",
    "assert this_course.author == \"ldssa\", \"this_course has the wrong author\"\n",
    "assert this_course.year == 2023, \"this_course has the wrong year\""
   ]
  },
  {
   "cell_type": "markdown",
   "metadata": {
    "deletable": false,
    "editable": false,
    "nbgrader": {
     "grade": false,
     "grade_id": "cell-cd820603a8eef280",
     "locked": true,
     "schema_version": 3,
     "solution": false,
     "task": false
    }
   },
   "source": [
    "### Exercise 7: What is a package in Python?"
   ]
  },
  {
   "cell_type": "markdown",
   "metadata": {
    "deletable": false,
    "editable": false,
    "nbgrader": {
     "grade": false,
     "grade_id": "cell-c734b87ad3f8c321",
     "locked": true,
     "schema_version": 3,
     "solution": false,
     "task": false
    }
   },
   "source": [
    "a) A single Python file (with a .py extension) is considered a package;   \n",
    "\n",
    "b) A set of modules that share the same directory and this directory must include an `__init__.py` file;\n",
    "\n",
    "c) The thing the postman delivers when you order something online;\n",
    "\n",
    "d)  A set of modules that share the same directory and this directory should not include an `__init__.py` file;"
   ]
  },
  {
   "cell_type": "code",
   "execution_count": 24,
   "metadata": {
    "deletable": false,
    "nbgrader": {
     "grade": false,
     "grade_id": "cell-17731565ade4c8d8",
     "locked": false,
     "schema_version": 3,
     "solution": true,
     "task": false
    }
   },
   "outputs": [],
   "source": [
    "#uncomment the right answer\n",
    "#answer = \"a\"\n",
    "#answer = \"b\"\n",
    "#answer = \"c\"\n",
    "#answer = \"d\"\n",
    "# YOUR CODE HERE\n",
    "answer = \"b\""
   ]
  },
  {
   "cell_type": "code",
   "execution_count": 25,
   "metadata": {
    "deletable": false,
    "editable": false,
    "nbgrader": {
     "grade": true,
     "grade_id": "cell-ed761f5a351a7094",
     "locked": true,
     "points": 1,
     "schema_version": 3,
     "solution": false,
     "task": false
    }
   },
   "outputs": [],
   "source": [
    "assert utils.encode_answer(answer) == utils.q8, \"Wrong answer.\""
   ]
  },
  {
   "cell_type": "markdown",
   "metadata": {
    "deletable": false,
    "editable": false,
    "nbgrader": {
     "grade": false,
     "grade_id": "cell-dce01f9d4cd8f191",
     "locked": true,
     "schema_version": 3,
     "solution": false,
     "task": false
    }
   },
   "source": [
    "### Exercise 8: Exercise\n",
    "\n",
    "Build a python package called `calculator` with the following directory structure:\n",
    "\n",
    "``` python\n",
    "calculator\n",
    "|____main.py\n",
    "|____\n",
    "| |____addition.py\n",
    "| |____subtraction.py\n",
    "\n",
    "```\n",
    "\n",
    "`addition.py` should define the following function:\n",
    "\n",
    "```python\n",
    "def add(a, b):\n",
    "    return a + b\n",
    "```\n",
    "\n",
    "`subtraction.py` should define the following function:\n",
    "\n",
    "```python\n",
    "def subtract(a, b):\n",
    "    return a - b\n",
    "```\n",
    "\n",
    "`main.py` should define the following statement:\n",
    "\n",
    "```python\n",
    "\n",
    "print(add(2, 3))\n",
    "print(subtract(5, 1))\n",
    "```\n",
    "\n",
    "You should then be able to run the program in a terminal and get the output:\n",
    "\n",
    "``` python\n",
    "> python calculator/main.py\n",
    "5\n",
    "4\n",
    "\n",
    "```\n",
    "\n",
    "Beware:\n",
    "* the directory diagram above may be missing something... \n",
    "* the main file may be missing something... \n",
    "\n",
    "Were you able to complete this exercise? (if not, ask for help!)"
   ]
  },
  {
   "cell_type": "markdown",
   "metadata": {
    "deletable": false,
    "editable": false,
    "nbgrader": {
     "grade": false,
     "grade_id": "cell-266521df44b84ebf",
     "locked": true,
     "schema_version": 3,
     "solution": false,
     "task": false
    }
   },
   "source": [
    "a) Yes   \n",
    "b) No"
   ]
  },
  {
   "cell_type": "code",
   "execution_count": null,
   "metadata": {
    "deletable": false,
    "nbgrader": {
     "grade": false,
     "grade_id": "cell-8df2491f6b0042a0",
     "locked": false,
     "schema_version": 3,
     "solution": true,
     "task": false
    }
   },
   "outputs": [],
   "source": [
    "# uncomment the right answer\n",
    "# answer = \"a\"\n",
    "# answer = \"b\"\n",
    "# YOUR CODE HERE\n",
    "raise NotImplementedError()"
   ]
  },
  {
   "cell_type": "code",
   "execution_count": null,
   "metadata": {
    "deletable": false,
    "editable": false,
    "nbgrader": {
     "grade": true,
     "grade_id": "cell-839cdbbdbfebce43",
     "locked": true,
     "points": 2,
     "schema_version": 3,
     "solution": false,
     "task": false
    }
   },
   "outputs": [],
   "source": [
    "assert utils.encode_answer(answer) == utils.q9, \"Wrong answer.\""
   ]
  },
  {
   "cell_type": "markdown",
   "metadata": {
    "deletable": false,
    "editable": false,
    "nbgrader": {
     "grade": false,
     "grade_id": "cell-d2ef50ef7bee6919",
     "locked": true,
     "schema_version": 3,
     "solution": false,
     "task": false
    }
   },
   "source": [
    "### Exercise 9: Why are packages important to use for any Python user?"
   ]
  },
  {
   "cell_type": "markdown",
   "metadata": {
    "deletable": false,
    "editable": false,
    "nbgrader": {
     "grade": false,
     "grade_id": "cell-94f5da113e8f89f1",
     "locked": true,
     "schema_version": 3,
     "solution": false,
     "task": false
    }
   },
   "source": [
    "a) Packages in Python were created to make programming more difficult and confusing for beginners.;\n",
    "\n",
    "b) It is not really necessary anymore, nor is it important, but it is just the way it has always been done.;\n",
    "\n",
    "c) Packages in Python are important because they allow you to hide your code from other developers and prevent them from using it.;\n",
    "\n",
    "d) They are used to organize and distribute modules and we love organized. A lot of time you import modules that contains other modules. And this way it is easier to manage and organize your code. ;"
   ]
  },
  {
   "cell_type": "code",
   "execution_count": 27,
   "metadata": {
    "deletable": false,
    "nbgrader": {
     "grade": false,
     "grade_id": "cell-471e5327dcc8e7b7",
     "locked": false,
     "schema_version": 3,
     "solution": true,
     "task": false
    }
   },
   "outputs": [],
   "source": [
    "# uncomment the right answer\n",
    "# answer = \"a\"\n",
    "# answer = \"b\"\n",
    "# answer = \"c\"\n",
    "# answer = \"d\"\n",
    "# YOUR CODE HERE\n",
    "answer = \"d\""
   ]
  },
  {
   "cell_type": "code",
   "execution_count": 28,
   "metadata": {
    "deletable": false,
    "editable": false,
    "nbgrader": {
     "grade": true,
     "grade_id": "cell-9d78f1dc248bb974",
     "locked": true,
     "points": 1,
     "schema_version": 3,
     "solution": false,
     "task": false
    }
   },
   "outputs": [],
   "source": [
    "assert utils.encode_answer(answer) == utils.q10, \"Wrong answer.\""
   ]
  },
  {
   "cell_type": "markdown",
   "metadata": {
    "deletable": false,
    "editable": false,
    "nbgrader": {
     "grade": false,
     "grade_id": "cell-a4a138712cfb78e3",
     "locked": true,
     "schema_version": 3,
     "solution": false,
     "task": false
    }
   },
   "source": [
    "### Exercise 10:  What is the unix command used to manage packages in a python environment?"
   ]
  },
  {
   "cell_type": "markdown",
   "metadata": {
    "deletable": false,
    "editable": false,
    "nbgrader": {
     "grade": false,
     "grade_id": "cell-45e50b50f874979e",
     "locked": true,
     "schema_version": 3,
     "solution": false,
     "task": false
    }
   },
   "source": [
    "a) cat   \n",
    "b) pip   \n",
    "c) package   \n",
    "d) lib   "
   ]
  },
  {
   "cell_type": "code",
   "execution_count": 29,
   "metadata": {
    "deletable": false,
    "nbgrader": {
     "grade": false,
     "grade_id": "cell-6d4d775081c8be95",
     "locked": false,
     "schema_version": 3,
     "solution": true,
     "task": false
    }
   },
   "outputs": [],
   "source": [
    "# uncomment the right answer\n",
    "# answer = \"a\"\n",
    "# answer = \"b\"\n",
    "# answer = \"c\"\n",
    "# answer = \"d\"\n",
    "# YOUR CODE HERE\n",
    "answer = \"b\""
   ]
  },
  {
   "cell_type": "code",
   "execution_count": 30,
   "metadata": {
    "deletable": false,
    "editable": false,
    "nbgrader": {
     "grade": true,
     "grade_id": "cell-342a8848d6c5e6fe",
     "locked": true,
     "points": 1,
     "schema_version": 3,
     "solution": false,
     "task": false
    }
   },
   "outputs": [],
   "source": [
    "assert utils.encode_answer(answer) == utils.q11, \"Wrong answer.\""
   ]
  },
  {
   "cell_type": "markdown",
   "metadata": {
    "deletable": false,
    "editable": false,
    "nbgrader": {
     "grade": false,
     "grade_id": "cell-8e4e13a0d08cb906",
     "locked": true,
     "schema_version": 3,
     "solution": false,
     "task": false
    }
   },
   "source": [
    "# Submit your work!\n",
    "\n",
    "To submit your work, [follow the steps here, in the step \"Grading the Exercise Notebook\"!](https://github.com/LDSSA/ds-prep-course-2023#22---working-on-the-learning-units)"
   ]
  }
 ],
 "metadata": {
  "kernelspec": {
   "display_name": "Python 3 (ipykernel)",
   "language": "python",
   "name": "python3"
  },
  "language_info": {
   "codemirror_mode": {
    "name": "ipython",
    "version": 3
   },
   "file_extension": ".py",
   "mimetype": "text/x-python",
   "name": "python",
   "nbconvert_exporter": "python",
   "pygments_lexer": "ipython3",
   "version": "3.8.0"
  }
 },
 "nbformat": 4,
 "nbformat_minor": 2
}
